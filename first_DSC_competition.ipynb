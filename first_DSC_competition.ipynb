{
 "cells": [
  {
   "cell_type": "markdown",
   "id": "86872050",
   "metadata": {},
   "source": [
    "### MY FIRST DATA SCIENCE COMPETITION\n",
    "Data Science Nigeria Patient Treatment. \n",
    "Medical treatments and surgeries can be categorised into inpatient and outpatient procedures."
   ]
  },
  {
   "cell_type": "markdown",
   "id": "3a3cb1b6",
   "metadata": {},
   "source": [
    "#### 1. Importing Libraries"
   ]
  },
  {
   "cell_type": "code",
   "execution_count": 123,
   "id": "64828451",
   "metadata": {},
   "outputs": [],
   "source": [
    "import pandas as pd\n",
    "import matplotlib.pyplot as plt\n",
    "from sklearn.linear_model import LogisticRegression\n",
    "from sklearn.preprocessing import StandardScaler\n",
    "import seaborn as sns\n",
    "from sklearn.model_selection import train_test_split\n",
    "from sklearn.metrics import f1_score"
   ]
  },
  {
   "cell_type": "markdown",
   "id": "475b2fb8",
   "metadata": {},
   "source": [
    "#### 2. Read Data given"
   ]
  },
  {
   "cell_type": "code",
   "execution_count": 7,
   "id": "412169a1",
   "metadata": {},
   "outputs": [],
   "source": [
    "train = pd.read_csv('train.csv')\n",
    "test = pd.read_csv('test.csv')\n",
    "sample_submission = pd.read_csv('sample_submission.csv')"
   ]
  },
  {
   "cell_type": "code",
   "execution_count": 163,
   "id": "4e5f0836",
   "metadata": {},
   "outputs": [
    {
     "data": {
      "text/html": [
       "<div>\n",
       "<style scoped>\n",
       "    .dataframe tbody tr th:only-of-type {\n",
       "        vertical-align: middle;\n",
       "    }\n",
       "\n",
       "    .dataframe tbody tr th {\n",
       "        vertical-align: top;\n",
       "    }\n",
       "\n",
       "    .dataframe thead th {\n",
       "        text-align: right;\n",
       "    }\n",
       "</style>\n",
       "<table border=\"1\" class=\"dataframe\">\n",
       "  <thead>\n",
       "    <tr style=\"text-align: right;\">\n",
       "      <th></th>\n",
       "      <th>patient_id_</th>\n",
       "      <th>HAEMATOCRIT</th>\n",
       "      <th>HAEMOGLOBINS</th>\n",
       "      <th>ERYTHROCYTE</th>\n",
       "      <th>LEUCOCYTE</th>\n",
       "      <th>THROMBOCYTE</th>\n",
       "      <th>MCH</th>\n",
       "      <th>MCHC</th>\n",
       "      <th>MCV</th>\n",
       "      <th>AGE</th>\n",
       "      <th>SEX</th>\n",
       "      <th>SOURCE</th>\n",
       "    </tr>\n",
       "  </thead>\n",
       "  <tbody>\n",
       "    <tr>\n",
       "      <th>0</th>\n",
       "      <td>patient_id_1270</td>\n",
       "      <td>43.6</td>\n",
       "      <td>14.5</td>\n",
       "      <td>5.52</td>\n",
       "      <td>3.0</td>\n",
       "      <td>237</td>\n",
       "      <td>27.5</td>\n",
       "      <td>33.6</td>\n",
       "      <td>81.7</td>\n",
       "      <td>32</td>\n",
       "      <td>F</td>\n",
       "      <td>0</td>\n",
       "    </tr>\n",
       "    <tr>\n",
       "      <th>1</th>\n",
       "      <td>patient_id_1762</td>\n",
       "      <td>44.3</td>\n",
       "      <td>14.4</td>\n",
       "      <td>5.09</td>\n",
       "      <td>7.3</td>\n",
       "      <td>255</td>\n",
       "      <td>29.7</td>\n",
       "      <td>32.9</td>\n",
       "      <td>90.4</td>\n",
       "      <td>40</td>\n",
       "      <td>M</td>\n",
       "      <td>0</td>\n",
       "    </tr>\n",
       "    <tr>\n",
       "      <th>2</th>\n",
       "      <td>patient_id_3355</td>\n",
       "      <td>36.2</td>\n",
       "      <td>12.5</td>\n",
       "      <td>4.57</td>\n",
       "      <td>7.8</td>\n",
       "      <td>263</td>\n",
       "      <td>28.9</td>\n",
       "      <td>35.0</td>\n",
       "      <td>82.6</td>\n",
       "      <td>65</td>\n",
       "      <td>F</td>\n",
       "      <td>0</td>\n",
       "    </tr>\n",
       "    <tr>\n",
       "      <th>3</th>\n",
       "      <td>patient_id_2443</td>\n",
       "      <td>46.1</td>\n",
       "      <td>14.7</td>\n",
       "      <td>5.38</td>\n",
       "      <td>8.5</td>\n",
       "      <td>320</td>\n",
       "      <td>28.6</td>\n",
       "      <td>32.2</td>\n",
       "      <td>88.8</td>\n",
       "      <td>52</td>\n",
       "      <td>M</td>\n",
       "      <td>0</td>\n",
       "    </tr>\n",
       "    <tr>\n",
       "      <th>4</th>\n",
       "      <td>patient_id_3414</td>\n",
       "      <td>31.8</td>\n",
       "      <td>10.9</td>\n",
       "      <td>4.05</td>\n",
       "      <td>26.9</td>\n",
       "      <td>220</td>\n",
       "      <td>28.6</td>\n",
       "      <td>34.8</td>\n",
       "      <td>82.3</td>\n",
       "      <td>66</td>\n",
       "      <td>F</td>\n",
       "      <td>1</td>\n",
       "    </tr>\n",
       "    <tr>\n",
       "      <th>5</th>\n",
       "      <td>patient_id_1921</td>\n",
       "      <td>36.3</td>\n",
       "      <td>12.4</td>\n",
       "      <td>4.35</td>\n",
       "      <td>5.3</td>\n",
       "      <td>258</td>\n",
       "      <td>30.2</td>\n",
       "      <td>34.6</td>\n",
       "      <td>87.2</td>\n",
       "      <td>43</td>\n",
       "      <td>F</td>\n",
       "      <td>1</td>\n",
       "    </tr>\n",
       "    <tr>\n",
       "      <th>6</th>\n",
       "      <td>patient_id_537</td>\n",
       "      <td>46.8</td>\n",
       "      <td>15.5</td>\n",
       "      <td>5.65</td>\n",
       "      <td>3.8</td>\n",
       "      <td>35</td>\n",
       "      <td>28.7</td>\n",
       "      <td>33.5</td>\n",
       "      <td>85.7</td>\n",
       "      <td>21</td>\n",
       "      <td>M</td>\n",
       "      <td>1</td>\n",
       "    </tr>\n",
       "    <tr>\n",
       "      <th>7</th>\n",
       "      <td>patient_id_1589</td>\n",
       "      <td>34.5</td>\n",
       "      <td>11.3</td>\n",
       "      <td>4.20</td>\n",
       "      <td>13.8</td>\n",
       "      <td>286</td>\n",
       "      <td>28.6</td>\n",
       "      <td>33.2</td>\n",
       "      <td>86.0</td>\n",
       "      <td>37</td>\n",
       "      <td>F</td>\n",
       "      <td>1</td>\n",
       "    </tr>\n",
       "    <tr>\n",
       "      <th>8</th>\n",
       "      <td>patient_id_2039</td>\n",
       "      <td>36.7</td>\n",
       "      <td>12.5</td>\n",
       "      <td>4.44</td>\n",
       "      <td>19.4</td>\n",
       "      <td>87</td>\n",
       "      <td>29.8</td>\n",
       "      <td>34.5</td>\n",
       "      <td>86.3</td>\n",
       "      <td>45</td>\n",
       "      <td>F</td>\n",
       "      <td>1</td>\n",
       "    </tr>\n",
       "    <tr>\n",
       "      <th>9</th>\n",
       "      <td>patient_id_3624</td>\n",
       "      <td>38.8</td>\n",
       "      <td>12.6</td>\n",
       "      <td>4.93</td>\n",
       "      <td>15.5</td>\n",
       "      <td>389</td>\n",
       "      <td>26.9</td>\n",
       "      <td>32.9</td>\n",
       "      <td>81.8</td>\n",
       "      <td>68</td>\n",
       "      <td>F</td>\n",
       "      <td>1</td>\n",
       "    </tr>\n",
       "  </tbody>\n",
       "</table>\n",
       "</div>"
      ],
      "text/plain": [
       "       patient_id_  HAEMATOCRIT  HAEMOGLOBINS  ERYTHROCYTE  LEUCOCYTE  \\\n",
       "0  patient_id_1270         43.6          14.5         5.52        3.0   \n",
       "1  patient_id_1762         44.3          14.4         5.09        7.3   \n",
       "2  patient_id_3355         36.2          12.5         4.57        7.8   \n",
       "3  patient_id_2443         46.1          14.7         5.38        8.5   \n",
       "4  patient_id_3414         31.8          10.9         4.05       26.9   \n",
       "5  patient_id_1921         36.3          12.4         4.35        5.3   \n",
       "6   patient_id_537         46.8          15.5         5.65        3.8   \n",
       "7  patient_id_1589         34.5          11.3         4.20       13.8   \n",
       "8  patient_id_2039         36.7          12.5         4.44       19.4   \n",
       "9  patient_id_3624         38.8          12.6         4.93       15.5   \n",
       "\n",
       "   THROMBOCYTE   MCH  MCHC   MCV  AGE SEX  SOURCE  \n",
       "0          237  27.5  33.6  81.7   32   F       0  \n",
       "1          255  29.7  32.9  90.4   40   M       0  \n",
       "2          263  28.9  35.0  82.6   65   F       0  \n",
       "3          320  28.6  32.2  88.8   52   M       0  \n",
       "4          220  28.6  34.8  82.3   66   F       1  \n",
       "5          258  30.2  34.6  87.2   43   F       1  \n",
       "6           35  28.7  33.5  85.7   21   M       1  \n",
       "7          286  28.6  33.2  86.0   37   F       1  \n",
       "8           87  29.8  34.5  86.3   45   F       1  \n",
       "9          389  26.9  32.9  81.8   68   F       1  "
      ]
     },
     "execution_count": 163,
     "metadata": {},
     "output_type": "execute_result"
    }
   ],
   "source": [
    "train.head(10)"
   ]
  },
  {
   "cell_type": "code",
   "execution_count": 9,
   "id": "2985f294",
   "metadata": {},
   "outputs": [
    {
     "data": {
      "text/html": [
       "<div>\n",
       "<style scoped>\n",
       "    .dataframe tbody tr th:only-of-type {\n",
       "        vertical-align: middle;\n",
       "    }\n",
       "\n",
       "    .dataframe tbody tr th {\n",
       "        vertical-align: top;\n",
       "    }\n",
       "\n",
       "    .dataframe thead th {\n",
       "        text-align: right;\n",
       "    }\n",
       "</style>\n",
       "<table border=\"1\" class=\"dataframe\">\n",
       "  <thead>\n",
       "    <tr style=\"text-align: right;\">\n",
       "      <th></th>\n",
       "      <th>patient_id_</th>\n",
       "      <th>HAEMATOCRIT</th>\n",
       "      <th>HAEMOGLOBINS</th>\n",
       "      <th>ERYTHROCYTE</th>\n",
       "      <th>LEUCOCYTE</th>\n",
       "      <th>THROMBOCYTE</th>\n",
       "      <th>MCH</th>\n",
       "      <th>MCHC</th>\n",
       "      <th>MCV</th>\n",
       "      <th>AGE</th>\n",
       "      <th>SEX</th>\n",
       "    </tr>\n",
       "  </thead>\n",
       "  <tbody>\n",
       "    <tr>\n",
       "      <th>0</th>\n",
       "      <td>patient_id_4373</td>\n",
       "      <td>33.0</td>\n",
       "      <td>11.1</td>\n",
       "      <td>4.15</td>\n",
       "      <td>11.1</td>\n",
       "      <td>329</td>\n",
       "      <td>28.4</td>\n",
       "      <td>34.1</td>\n",
       "      <td>83.2</td>\n",
       "      <td>89</td>\n",
       "      <td>F</td>\n",
       "    </tr>\n",
       "    <tr>\n",
       "      <th>1</th>\n",
       "      <td>patient_id_2204</td>\n",
       "      <td>34.0</td>\n",
       "      <td>11.1</td>\n",
       "      <td>4.23</td>\n",
       "      <td>9.7</td>\n",
       "      <td>120</td>\n",
       "      <td>27.9</td>\n",
       "      <td>33.1</td>\n",
       "      <td>84.1</td>\n",
       "      <td>47</td>\n",
       "      <td>F</td>\n",
       "    </tr>\n",
       "    <tr>\n",
       "      <th>2</th>\n",
       "      <td>patient_id_93</td>\n",
       "      <td>42.4</td>\n",
       "      <td>14.1</td>\n",
       "      <td>5.71</td>\n",
       "      <td>4.3</td>\n",
       "      <td>239</td>\n",
       "      <td>25.8</td>\n",
       "      <td>33.6</td>\n",
       "      <td>76.7</td>\n",
       "      <td>3</td>\n",
       "      <td>M</td>\n",
       "    </tr>\n",
       "    <tr>\n",
       "      <th>3</th>\n",
       "      <td>patient_id_798</td>\n",
       "      <td>40.3</td>\n",
       "      <td>13.4</td>\n",
       "      <td>5.19</td>\n",
       "      <td>4.7</td>\n",
       "      <td>208</td>\n",
       "      <td>27.1</td>\n",
       "      <td>33.7</td>\n",
       "      <td>80.5</td>\n",
       "      <td>25</td>\n",
       "      <td>F</td>\n",
       "    </tr>\n",
       "  </tbody>\n",
       "</table>\n",
       "</div>"
      ],
      "text/plain": [
       "       patient_id_  HAEMATOCRIT  HAEMOGLOBINS  ERYTHROCYTE  LEUCOCYTE  \\\n",
       "0  patient_id_4373         33.0          11.1         4.15       11.1   \n",
       "1  patient_id_2204         34.0          11.1         4.23        9.7   \n",
       "2    patient_id_93         42.4          14.1         5.71        4.3   \n",
       "3   patient_id_798         40.3          13.4         5.19        4.7   \n",
       "\n",
       "   THROMBOCYTE   MCH  MCHC   MCV  AGE SEX  \n",
       "0          329  28.4  34.1  83.2   89   F  \n",
       "1          120  27.9  33.1  84.1   47   F  \n",
       "2          239  25.8  33.6  76.7    3   M  \n",
       "3          208  27.1  33.7  80.5   25   F  "
      ]
     },
     "execution_count": 9,
     "metadata": {},
     "output_type": "execute_result"
    }
   ],
   "source": [
    "test.head(4)"
   ]
  },
  {
   "cell_type": "code",
   "execution_count": 10,
   "id": "51ce5cb8",
   "metadata": {},
   "outputs": [
    {
     "data": {
      "text/html": [
       "<div>\n",
       "<style scoped>\n",
       "    .dataframe tbody tr th:only-of-type {\n",
       "        vertical-align: middle;\n",
       "    }\n",
       "\n",
       "    .dataframe tbody tr th {\n",
       "        vertical-align: top;\n",
       "    }\n",
       "\n",
       "    .dataframe thead th {\n",
       "        text-align: right;\n",
       "    }\n",
       "</style>\n",
       "<table border=\"1\" class=\"dataframe\">\n",
       "  <thead>\n",
       "    <tr style=\"text-align: right;\">\n",
       "      <th></th>\n",
       "      <th>patient_id_</th>\n",
       "      <th>SOURCE</th>\n",
       "    </tr>\n",
       "  </thead>\n",
       "  <tbody>\n",
       "    <tr>\n",
       "      <th>0</th>\n",
       "      <td>patient_id_4373</td>\n",
       "      <td>1</td>\n",
       "    </tr>\n",
       "    <tr>\n",
       "      <th>1</th>\n",
       "      <td>patient_id_2204</td>\n",
       "      <td>1</td>\n",
       "    </tr>\n",
       "    <tr>\n",
       "      <th>2</th>\n",
       "      <td>patient_id_93</td>\n",
       "      <td>1</td>\n",
       "    </tr>\n",
       "    <tr>\n",
       "      <th>3</th>\n",
       "      <td>patient_id_798</td>\n",
       "      <td>1</td>\n",
       "    </tr>\n",
       "    <tr>\n",
       "      <th>4</th>\n",
       "      <td>patient_id_789</td>\n",
       "      <td>1</td>\n",
       "    </tr>\n",
       "  </tbody>\n",
       "</table>\n",
       "</div>"
      ],
      "text/plain": [
       "       patient_id_  SOURCE\n",
       "0  patient_id_4373       1\n",
       "1  patient_id_2204       1\n",
       "2    patient_id_93       1\n",
       "3   patient_id_798       1\n",
       "4   patient_id_789       1"
      ]
     },
     "execution_count": 10,
     "metadata": {},
     "output_type": "execute_result"
    }
   ],
   "source": [
    "sample_submission.head()"
   ]
  },
  {
   "cell_type": "markdown",
   "id": "eb6696c5",
   "metadata": {},
   "source": [
    "#### 3. Data Exploration"
   ]
  },
  {
   "cell_type": "code",
   "execution_count": 11,
   "id": "e8502d1b",
   "metadata": {},
   "outputs": [
    {
     "data": {
      "text/plain": [
       "((3088, 12), (1324, 11))"
      ]
     },
     "execution_count": 11,
     "metadata": {},
     "output_type": "execute_result"
    }
   ],
   "source": [
    "train.shape, test.shape"
   ]
  },
  {
   "cell_type": "code",
   "execution_count": 15,
   "id": "7e4e62f7",
   "metadata": {},
   "outputs": [
    {
     "data": {
      "text/plain": [
       "['SOURCE']"
      ]
     },
     "execution_count": 15,
     "metadata": {},
     "output_type": "execute_result"
    }
   ],
   "source": [
    "target = [cols for cols in train.columns if  cols not in test.columns]\n",
    "target"
   ]
  },
  {
   "cell_type": "code",
   "execution_count": 143,
   "id": "aa4570b1",
   "metadata": {},
   "outputs": [],
   "source": [
    "# Asssigning Our Target Variable\n",
    "y = train['SOURCE']"
   ]
  },
  {
   "cell_type": "code",
   "execution_count": 17,
   "id": "2104aae7",
   "metadata": {},
   "outputs": [
    {
     "name": "stdout",
     "output_type": "stream",
     "text": [
      "<class 'pandas.core.frame.DataFrame'>\n",
      "RangeIndex: 3088 entries, 0 to 3087\n",
      "Data columns (total 12 columns):\n",
      " #   Column        Non-Null Count  Dtype  \n",
      "---  ------        --------------  -----  \n",
      " 0   patient_id_   3088 non-null   object \n",
      " 1   HAEMATOCRIT   3088 non-null   float64\n",
      " 2   HAEMOGLOBINS  3088 non-null   float64\n",
      " 3   ERYTHROCYTE   3088 non-null   float64\n",
      " 4   LEUCOCYTE     3088 non-null   float64\n",
      " 5   THROMBOCYTE   3088 non-null   int64  \n",
      " 6   MCH           3088 non-null   float64\n",
      " 7   MCHC          3088 non-null   float64\n",
      " 8   MCV           3088 non-null   float64\n",
      " 9   AGE           3088 non-null   int64  \n",
      " 10  SEX           3088 non-null   object \n",
      " 11  SOURCE        3088 non-null   int64  \n",
      "dtypes: float64(7), int64(3), object(2)\n",
      "memory usage: 289.6+ KB\n"
     ]
    }
   ],
   "source": [
    "train.info()"
   ]
  },
  {
   "cell_type": "code",
   "execution_count": 18,
   "id": "a6f99241",
   "metadata": {},
   "outputs": [
    {
     "data": {
      "text/html": [
       "<div>\n",
       "<style scoped>\n",
       "    .dataframe tbody tr th:only-of-type {\n",
       "        vertical-align: middle;\n",
       "    }\n",
       "\n",
       "    .dataframe tbody tr th {\n",
       "        vertical-align: top;\n",
       "    }\n",
       "\n",
       "    .dataframe thead th {\n",
       "        text-align: right;\n",
       "    }\n",
       "</style>\n",
       "<table border=\"1\" class=\"dataframe\">\n",
       "  <thead>\n",
       "    <tr style=\"text-align: right;\">\n",
       "      <th></th>\n",
       "      <th>HAEMATOCRIT</th>\n",
       "      <th>HAEMOGLOBINS</th>\n",
       "      <th>ERYTHROCYTE</th>\n",
       "      <th>LEUCOCYTE</th>\n",
       "      <th>THROMBOCYTE</th>\n",
       "      <th>MCH</th>\n",
       "      <th>MCHC</th>\n",
       "      <th>MCV</th>\n",
       "      <th>AGE</th>\n",
       "      <th>SOURCE</th>\n",
       "    </tr>\n",
       "  </thead>\n",
       "  <tbody>\n",
       "    <tr>\n",
       "      <th>count</th>\n",
       "      <td>3088.000000</td>\n",
       "      <td>3088.000000</td>\n",
       "      <td>3088.000000</td>\n",
       "      <td>3088.000000</td>\n",
       "      <td>3088.000000</td>\n",
       "      <td>3088.000000</td>\n",
       "      <td>3088.000000</td>\n",
       "      <td>3088.000000</td>\n",
       "      <td>3088.000000</td>\n",
       "      <td>3088.000000</td>\n",
       "    </tr>\n",
       "    <tr>\n",
       "      <th>mean</th>\n",
       "      <td>38.381865</td>\n",
       "      <td>12.638472</td>\n",
       "      <td>4.752160</td>\n",
       "      <td>8.788504</td>\n",
       "      <td>260.652850</td>\n",
       "      <td>28.218264</td>\n",
       "      <td>33.352364</td>\n",
       "      <td>84.540026</td>\n",
       "      <td>46.617876</td>\n",
       "      <td>0.409974</td>\n",
       "    </tr>\n",
       "    <tr>\n",
       "      <th>std</th>\n",
       "      <td>6.070420</td>\n",
       "      <td>2.104983</td>\n",
       "      <td>0.792281</td>\n",
       "      <td>5.055580</td>\n",
       "      <td>115.504157</td>\n",
       "      <td>2.658656</td>\n",
       "      <td>1.227691</td>\n",
       "      <td>6.814936</td>\n",
       "      <td>21.684646</td>\n",
       "      <td>0.491908</td>\n",
       "    </tr>\n",
       "    <tr>\n",
       "      <th>min</th>\n",
       "      <td>13.900000</td>\n",
       "      <td>4.300000</td>\n",
       "      <td>1.690000</td>\n",
       "      <td>1.200000</td>\n",
       "      <td>13.000000</td>\n",
       "      <td>14.900000</td>\n",
       "      <td>26.400000</td>\n",
       "      <td>54.000000</td>\n",
       "      <td>1.000000</td>\n",
       "      <td>0.000000</td>\n",
       "    </tr>\n",
       "    <tr>\n",
       "      <th>25%</th>\n",
       "      <td>34.500000</td>\n",
       "      <td>11.275000</td>\n",
       "      <td>4.240000</td>\n",
       "      <td>5.700000</td>\n",
       "      <td>191.000000</td>\n",
       "      <td>27.200000</td>\n",
       "      <td>32.700000</td>\n",
       "      <td>81.500000</td>\n",
       "      <td>29.000000</td>\n",
       "      <td>0.000000</td>\n",
       "    </tr>\n",
       "    <tr>\n",
       "      <th>50%</th>\n",
       "      <td>38.800000</td>\n",
       "      <td>12.800000</td>\n",
       "      <td>4.790000</td>\n",
       "      <td>7.600000</td>\n",
       "      <td>259.000000</td>\n",
       "      <td>28.700000</td>\n",
       "      <td>33.400000</td>\n",
       "      <td>85.400000</td>\n",
       "      <td>47.000000</td>\n",
       "      <td>0.000000</td>\n",
       "    </tr>\n",
       "    <tr>\n",
       "      <th>75%</th>\n",
       "      <td>42.700000</td>\n",
       "      <td>14.200000</td>\n",
       "      <td>5.260000</td>\n",
       "      <td>10.400000</td>\n",
       "      <td>325.000000</td>\n",
       "      <td>29.800000</td>\n",
       "      <td>34.100000</td>\n",
       "      <td>88.700000</td>\n",
       "      <td>64.000000</td>\n",
       "      <td>1.000000</td>\n",
       "    </tr>\n",
       "    <tr>\n",
       "      <th>max</th>\n",
       "      <td>69.200000</td>\n",
       "      <td>18.100000</td>\n",
       "      <td>8.070000</td>\n",
       "      <td>76.700000</td>\n",
       "      <td>1188.000000</td>\n",
       "      <td>36.800000</td>\n",
       "      <td>39.000000</td>\n",
       "      <td>105.300000</td>\n",
       "      <td>99.000000</td>\n",
       "      <td>1.000000</td>\n",
       "    </tr>\n",
       "  </tbody>\n",
       "</table>\n",
       "</div>"
      ],
      "text/plain": [
       "       HAEMATOCRIT  HAEMOGLOBINS  ERYTHROCYTE    LEUCOCYTE  THROMBOCYTE  \\\n",
       "count  3088.000000   3088.000000  3088.000000  3088.000000  3088.000000   \n",
       "mean     38.381865     12.638472     4.752160     8.788504   260.652850   \n",
       "std       6.070420      2.104983     0.792281     5.055580   115.504157   \n",
       "min      13.900000      4.300000     1.690000     1.200000    13.000000   \n",
       "25%      34.500000     11.275000     4.240000     5.700000   191.000000   \n",
       "50%      38.800000     12.800000     4.790000     7.600000   259.000000   \n",
       "75%      42.700000     14.200000     5.260000    10.400000   325.000000   \n",
       "max      69.200000     18.100000     8.070000    76.700000  1188.000000   \n",
       "\n",
       "               MCH         MCHC          MCV          AGE       SOURCE  \n",
       "count  3088.000000  3088.000000  3088.000000  3088.000000  3088.000000  \n",
       "mean     28.218264    33.352364    84.540026    46.617876     0.409974  \n",
       "std       2.658656     1.227691     6.814936    21.684646     0.491908  \n",
       "min      14.900000    26.400000    54.000000     1.000000     0.000000  \n",
       "25%      27.200000    32.700000    81.500000    29.000000     0.000000  \n",
       "50%      28.700000    33.400000    85.400000    47.000000     0.000000  \n",
       "75%      29.800000    34.100000    88.700000    64.000000     1.000000  \n",
       "max      36.800000    39.000000   105.300000    99.000000     1.000000  "
      ]
     },
     "execution_count": 18,
     "metadata": {},
     "output_type": "execute_result"
    }
   ],
   "source": [
    "train.describe()"
   ]
  },
  {
   "cell_type": "markdown",
   "id": "57a73300",
   "metadata": {},
   "source": [
    "#### 4. Grouping the features into categorical and Numerical"
   ]
  },
  {
   "cell_type": "code",
   "execution_count": 29,
   "id": "70c354da",
   "metadata": {},
   "outputs": [
    {
     "data": {
      "text/plain": [
       "['patient_id_', 'SEX']"
      ]
     },
     "execution_count": 29,
     "metadata": {},
     "output_type": "execute_result"
    }
   ],
   "source": [
    "# You can use;\n",
    "# categorical_feat = [feat for feat in train.columns if train[feat].dtype == 'O']\n",
    "# or\n",
    "categorical_feat = list(train.select_dtypes(include = 'object').columns)\n",
    "categorical_feat"
   ]
  },
  {
   "cell_type": "code",
   "execution_count": 147,
   "id": "f11d888d",
   "metadata": {},
   "outputs": [
    {
     "data": {
      "text/plain": [
       "['HAEMATOCRIT',\n",
       " 'HAEMOGLOBINS',\n",
       " 'ERYTHROCYTE',\n",
       " 'LEUCOCYTE',\n",
       " 'THROMBOCYTE',\n",
       " 'MCH',\n",
       " 'MCHC',\n",
       " 'MCV',\n",
       " 'AGE',\n",
       " 'SOURCE']"
      ]
     },
     "execution_count": 147,
     "metadata": {},
     "output_type": "execute_result"
    }
   ],
   "source": [
    "numerical_feat = list(train.select_dtypes(exclude = 'object').columns)\n",
    "numerical_feat"
   ]
  },
  {
   "cell_type": "code",
   "execution_count": 148,
   "id": "8598311f",
   "metadata": {},
   "outputs": [
    {
     "data": {
      "text/html": [
       "<div>\n",
       "<style scoped>\n",
       "    .dataframe tbody tr th:only-of-type {\n",
       "        vertical-align: middle;\n",
       "    }\n",
       "\n",
       "    .dataframe tbody tr th {\n",
       "        vertical-align: top;\n",
       "    }\n",
       "\n",
       "    .dataframe thead th {\n",
       "        text-align: right;\n",
       "    }\n",
       "</style>\n",
       "<table border=\"1\" class=\"dataframe\">\n",
       "  <thead>\n",
       "    <tr style=\"text-align: right;\">\n",
       "      <th></th>\n",
       "      <th>HAEMATOCRIT</th>\n",
       "      <th>HAEMOGLOBINS</th>\n",
       "      <th>ERYTHROCYTE</th>\n",
       "      <th>LEUCOCYTE</th>\n",
       "      <th>THROMBOCYTE</th>\n",
       "      <th>MCH</th>\n",
       "      <th>MCHC</th>\n",
       "      <th>MCV</th>\n",
       "      <th>AGE</th>\n",
       "      <th>SOURCE</th>\n",
       "    </tr>\n",
       "  </thead>\n",
       "  <tbody>\n",
       "    <tr>\n",
       "      <th>0</th>\n",
       "      <td>43.6</td>\n",
       "      <td>14.5</td>\n",
       "      <td>5.52</td>\n",
       "      <td>3.0</td>\n",
       "      <td>237</td>\n",
       "      <td>27.5</td>\n",
       "      <td>33.6</td>\n",
       "      <td>81.7</td>\n",
       "      <td>32</td>\n",
       "      <td>0</td>\n",
       "    </tr>\n",
       "    <tr>\n",
       "      <th>1</th>\n",
       "      <td>44.3</td>\n",
       "      <td>14.4</td>\n",
       "      <td>5.09</td>\n",
       "      <td>7.3</td>\n",
       "      <td>255</td>\n",
       "      <td>29.7</td>\n",
       "      <td>32.9</td>\n",
       "      <td>90.4</td>\n",
       "      <td>40</td>\n",
       "      <td>0</td>\n",
       "    </tr>\n",
       "    <tr>\n",
       "      <th>2</th>\n",
       "      <td>36.2</td>\n",
       "      <td>12.5</td>\n",
       "      <td>4.57</td>\n",
       "      <td>7.8</td>\n",
       "      <td>263</td>\n",
       "      <td>28.9</td>\n",
       "      <td>35.0</td>\n",
       "      <td>82.6</td>\n",
       "      <td>65</td>\n",
       "      <td>0</td>\n",
       "    </tr>\n",
       "    <tr>\n",
       "      <th>3</th>\n",
       "      <td>46.1</td>\n",
       "      <td>14.7</td>\n",
       "      <td>5.38</td>\n",
       "      <td>8.5</td>\n",
       "      <td>320</td>\n",
       "      <td>28.6</td>\n",
       "      <td>32.2</td>\n",
       "      <td>88.8</td>\n",
       "      <td>52</td>\n",
       "      <td>0</td>\n",
       "    </tr>\n",
       "  </tbody>\n",
       "</table>\n",
       "</div>"
      ],
      "text/plain": [
       "   HAEMATOCRIT  HAEMOGLOBINS  ERYTHROCYTE  LEUCOCYTE  THROMBOCYTE   MCH  MCHC  \\\n",
       "0         43.6          14.5         5.52        3.0          237  27.5  33.6   \n",
       "1         44.3          14.4         5.09        7.3          255  29.7  32.9   \n",
       "2         36.2          12.5         4.57        7.8          263  28.9  35.0   \n",
       "3         46.1          14.7         5.38        8.5          320  28.6  32.2   \n",
       "\n",
       "    MCV  AGE  SOURCE  \n",
       "0  81.7   32       0  \n",
       "1  90.4   40       0  \n",
       "2  82.6   65       0  \n",
       "3  88.8   52       0  "
      ]
     },
     "execution_count": 148,
     "metadata": {},
     "output_type": "execute_result"
    }
   ],
   "source": [
    "# Having a look into our data based on numerical features only\n",
    "train[numerical_feat].head(4)"
   ]
  },
  {
   "cell_type": "code",
   "execution_count": 149,
   "id": "4111c4fd",
   "metadata": {},
   "outputs": [],
   "source": [
    "# Lets drop the 'Source' feature saince its our 'Target' Variable\n",
    "numerical_feat.remove('SOURCE')"
   ]
  },
  {
   "cell_type": "code",
   "execution_count": 150,
   "id": "01e6dfca",
   "metadata": {},
   "outputs": [
    {
     "data": {
      "text/html": [
       "<div>\n",
       "<style scoped>\n",
       "    .dataframe tbody tr th:only-of-type {\n",
       "        vertical-align: middle;\n",
       "    }\n",
       "\n",
       "    .dataframe tbody tr th {\n",
       "        vertical-align: top;\n",
       "    }\n",
       "\n",
       "    .dataframe thead th {\n",
       "        text-align: right;\n",
       "    }\n",
       "</style>\n",
       "<table border=\"1\" class=\"dataframe\">\n",
       "  <thead>\n",
       "    <tr style=\"text-align: right;\">\n",
       "      <th></th>\n",
       "      <th>HAEMATOCRIT</th>\n",
       "      <th>HAEMOGLOBINS</th>\n",
       "      <th>ERYTHROCYTE</th>\n",
       "      <th>LEUCOCYTE</th>\n",
       "      <th>THROMBOCYTE</th>\n",
       "      <th>MCH</th>\n",
       "      <th>MCHC</th>\n",
       "      <th>MCV</th>\n",
       "      <th>AGE</th>\n",
       "    </tr>\n",
       "  </thead>\n",
       "  <tbody>\n",
       "    <tr>\n",
       "      <th>0</th>\n",
       "      <td>43.6</td>\n",
       "      <td>14.5</td>\n",
       "      <td>5.52</td>\n",
       "      <td>3.0</td>\n",
       "      <td>237</td>\n",
       "      <td>27.5</td>\n",
       "      <td>33.6</td>\n",
       "      <td>81.7</td>\n",
       "      <td>32</td>\n",
       "    </tr>\n",
       "    <tr>\n",
       "      <th>1</th>\n",
       "      <td>44.3</td>\n",
       "      <td>14.4</td>\n",
       "      <td>5.09</td>\n",
       "      <td>7.3</td>\n",
       "      <td>255</td>\n",
       "      <td>29.7</td>\n",
       "      <td>32.9</td>\n",
       "      <td>90.4</td>\n",
       "      <td>40</td>\n",
       "    </tr>\n",
       "    <tr>\n",
       "      <th>2</th>\n",
       "      <td>36.2</td>\n",
       "      <td>12.5</td>\n",
       "      <td>4.57</td>\n",
       "      <td>7.8</td>\n",
       "      <td>263</td>\n",
       "      <td>28.9</td>\n",
       "      <td>35.0</td>\n",
       "      <td>82.6</td>\n",
       "      <td>65</td>\n",
       "    </tr>\n",
       "    <tr>\n",
       "      <th>3</th>\n",
       "      <td>46.1</td>\n",
       "      <td>14.7</td>\n",
       "      <td>5.38</td>\n",
       "      <td>8.5</td>\n",
       "      <td>320</td>\n",
       "      <td>28.6</td>\n",
       "      <td>32.2</td>\n",
       "      <td>88.8</td>\n",
       "      <td>52</td>\n",
       "    </tr>\n",
       "  </tbody>\n",
       "</table>\n",
       "</div>"
      ],
      "text/plain": [
       "   HAEMATOCRIT  HAEMOGLOBINS  ERYTHROCYTE  LEUCOCYTE  THROMBOCYTE   MCH  MCHC  \\\n",
       "0         43.6          14.5         5.52        3.0          237  27.5  33.6   \n",
       "1         44.3          14.4         5.09        7.3          255  29.7  32.9   \n",
       "2         36.2          12.5         4.57        7.8          263  28.9  35.0   \n",
       "3         46.1          14.7         5.38        8.5          320  28.6  32.2   \n",
       "\n",
       "    MCV  AGE  \n",
       "0  81.7   32  \n",
       "1  90.4   40  \n",
       "2  82.6   65  \n",
       "3  88.8   52  "
      ]
     },
     "execution_count": 150,
     "metadata": {},
     "output_type": "execute_result"
    }
   ],
   "source": [
    "train[numerical_feat].head(4)"
   ]
  },
  {
   "cell_type": "markdown",
   "id": "5509a1e4",
   "metadata": {},
   "source": [
    "#### 5. Data Preprocessing"
   ]
  },
  {
   "cell_type": "code",
   "execution_count": 151,
   "id": "372bafe4",
   "metadata": {},
   "outputs": [],
   "source": [
    "# Scale or normalize The Dataset\n",
    "scaler = StandardScaler()\n",
    "X = scaler.fit_transform(train[numerical_feat])\n",
    "testing = scaler.fit_transform(test[numerical_feat])"
   ]
  },
  {
   "cell_type": "code",
   "execution_count": 152,
   "id": "984b8881",
   "metadata": {},
   "outputs": [
    {
     "data": {
      "text/html": [
       "<div>\n",
       "<style scoped>\n",
       "    .dataframe tbody tr th:only-of-type {\n",
       "        vertical-align: middle;\n",
       "    }\n",
       "\n",
       "    .dataframe tbody tr th {\n",
       "        vertical-align: top;\n",
       "    }\n",
       "\n",
       "    .dataframe thead th {\n",
       "        text-align: right;\n",
       "    }\n",
       "</style>\n",
       "<table border=\"1\" class=\"dataframe\">\n",
       "  <thead>\n",
       "    <tr style=\"text-align: right;\">\n",
       "      <th></th>\n",
       "      <th>HAEMATOCRIT</th>\n",
       "      <th>HAEMOGLOBINS</th>\n",
       "      <th>ERYTHROCYTE</th>\n",
       "      <th>LEUCOCYTE</th>\n",
       "      <th>THROMBOCYTE</th>\n",
       "      <th>MCH</th>\n",
       "      <th>MCHC</th>\n",
       "      <th>MCV</th>\n",
       "      <th>AGE</th>\n",
       "    </tr>\n",
       "  </thead>\n",
       "  <tbody>\n",
       "    <tr>\n",
       "      <th>0</th>\n",
       "      <td>0.859740</td>\n",
       "      <td>0.884487</td>\n",
       "      <td>0.969308</td>\n",
       "      <td>-1.145159</td>\n",
       "      <td>-0.204812</td>\n",
       "      <td>-0.270204</td>\n",
       "      <td>0.201741</td>\n",
       "      <td>-0.416803</td>\n",
       "      <td>-0.674221</td>\n",
       "    </tr>\n",
       "    <tr>\n",
       "      <th>1</th>\n",
       "      <td>0.975071</td>\n",
       "      <td>0.836973</td>\n",
       "      <td>0.426484</td>\n",
       "      <td>-0.294476</td>\n",
       "      <td>-0.048949</td>\n",
       "      <td>0.557415</td>\n",
       "      <td>-0.368527</td>\n",
       "      <td>0.860011</td>\n",
       "      <td>-0.305237</td>\n",
       "    </tr>\n",
       "    <tr>\n",
       "      <th>2</th>\n",
       "      <td>-0.359484</td>\n",
       "      <td>-0.065793</td>\n",
       "      <td>-0.229956</td>\n",
       "      <td>-0.195559</td>\n",
       "      <td>0.020324</td>\n",
       "      <td>0.256463</td>\n",
       "      <td>1.342278</td>\n",
       "      <td>-0.284719</td>\n",
       "      <td>0.847840</td>\n",
       "    </tr>\n",
       "    <tr>\n",
       "      <th>3</th>\n",
       "      <td>1.271639</td>\n",
       "      <td>0.979515</td>\n",
       "      <td>0.792575</td>\n",
       "      <td>-0.057076</td>\n",
       "      <td>0.513893</td>\n",
       "      <td>0.143605</td>\n",
       "      <td>-0.938796</td>\n",
       "      <td>0.625195</td>\n",
       "      <td>0.248240</td>\n",
       "    </tr>\n",
       "    <tr>\n",
       "      <th>4</th>\n",
       "      <td>-1.084428</td>\n",
       "      <td>-0.826018</td>\n",
       "      <td>-0.886395</td>\n",
       "      <td>3.583056</td>\n",
       "      <td>-0.352017</td>\n",
       "      <td>0.143605</td>\n",
       "      <td>1.179345</td>\n",
       "      <td>-0.328747</td>\n",
       "      <td>0.893963</td>\n",
       "    </tr>\n",
       "  </tbody>\n",
       "</table>\n",
       "</div>"
      ],
      "text/plain": [
       "   HAEMATOCRIT  HAEMOGLOBINS  ERYTHROCYTE  LEUCOCYTE  THROMBOCYTE       MCH  \\\n",
       "0     0.859740      0.884487     0.969308  -1.145159    -0.204812 -0.270204   \n",
       "1     0.975071      0.836973     0.426484  -0.294476    -0.048949  0.557415   \n",
       "2    -0.359484     -0.065793    -0.229956  -0.195559     0.020324  0.256463   \n",
       "3     1.271639      0.979515     0.792575  -0.057076     0.513893  0.143605   \n",
       "4    -1.084428     -0.826018    -0.886395   3.583056    -0.352017  0.143605   \n",
       "\n",
       "       MCHC       MCV       AGE  \n",
       "0  0.201741 -0.416803 -0.674221  \n",
       "1 -0.368527  0.860011 -0.305237  \n",
       "2  1.342278 -0.284719  0.847840  \n",
       "3 -0.938796  0.625195  0.248240  \n",
       "4  1.179345 -0.328747  0.893963  "
      ]
     },
     "execution_count": 152,
     "metadata": {},
     "output_type": "execute_result"
    }
   ],
   "source": [
    "X = pd.DataFrame(X, columns = numerical_feat)\n",
    "testing = pd.DataFrame(testing, columns = numerical_feat)\n",
    "X.head()"
   ]
  },
  {
   "cell_type": "markdown",
   "id": "7b735127",
   "metadata": {},
   "source": [
    "#### 6. Defining  Model\n",
    "Since there are no Missing values we go straight to splitting our data for model fitting"
   ]
  },
  {
   "cell_type": "code",
   "execution_count": 153,
   "id": "5f874625",
   "metadata": {},
   "outputs": [],
   "source": [
    "X_train, X_test, y_train, y_test = train_test_split(X, y, test_size=0.33, random_state=42)"
   ]
  },
  {
   "cell_type": "code",
   "execution_count": 154,
   "id": "66094afc",
   "metadata": {},
   "outputs": [
    {
     "data": {
      "text/plain": [
       "LogisticRegression()"
      ]
     },
     "execution_count": 154,
     "metadata": {},
     "output_type": "execute_result"
    }
   ],
   "source": [
    "# Train the Model\n",
    "logistic_reg_model = LogisticRegression()\n",
    "logistic_reg_model.fit(X_train, y_train)"
   ]
  },
  {
   "cell_type": "code",
   "execution_count": 155,
   "id": "6681868d",
   "metadata": {},
   "outputs": [],
   "source": [
    "# Predict\n",
    "# We use both the 'X_train and X_test just to ensre we are not over fitting'\n",
    "pred = logistic_reg_model.predict(X_test)\n",
    "pred2 = logistic_reg_model.predict(X_train)"
   ]
  },
  {
   "cell_type": "markdown",
   "id": "f6861b1e",
   "metadata": {},
   "source": [
    "#### 7. Evaluating the Model"
   ]
  },
  {
   "cell_type": "code",
   "execution_count": 156,
   "id": "e6b9351c",
   "metadata": {},
   "outputs": [
    {
     "name": "stdout",
     "output_type": "stream",
     "text": [
      "Training set Evalution:\n",
      "Classifier f1_score value is: 0.5917241379310344\n",
      "\n",
      "Testing set Evalution:\n",
      "Classifier f1_score value is: 0.6153846153846154\n"
     ]
    }
   ],
   "source": [
    "print('Training set Evalution:')\n",
    "print(f'Classifier f1_score value is: {f1_score(y_train, pred2)}')\n",
    "print()\n",
    "print('Testing set Evalution:')\n",
    "print(f'Classifier f1_score value is: {f1_score(y_test, pred)}')"
   ]
  },
  {
   "cell_type": "markdown",
   "id": "d6447702",
   "metadata": {},
   "source": [
    "#### 8. Submitting Section"
   ]
  },
  {
   "cell_type": "code",
   "execution_count": 157,
   "id": "c91f3f5f",
   "metadata": {},
   "outputs": [
    {
     "data": {
      "text/html": [
       "<div>\n",
       "<style scoped>\n",
       "    .dataframe tbody tr th:only-of-type {\n",
       "        vertical-align: middle;\n",
       "    }\n",
       "\n",
       "    .dataframe tbody tr th {\n",
       "        vertical-align: top;\n",
       "    }\n",
       "\n",
       "    .dataframe thead th {\n",
       "        text-align: right;\n",
       "    }\n",
       "</style>\n",
       "<table border=\"1\" class=\"dataframe\">\n",
       "  <thead>\n",
       "    <tr style=\"text-align: right;\">\n",
       "      <th></th>\n",
       "      <th>patient_id_</th>\n",
       "      <th>SOURCE</th>\n",
       "    </tr>\n",
       "  </thead>\n",
       "  <tbody>\n",
       "    <tr>\n",
       "      <th>0</th>\n",
       "      <td>patient_id_4373</td>\n",
       "      <td>1</td>\n",
       "    </tr>\n",
       "    <tr>\n",
       "      <th>1</th>\n",
       "      <td>patient_id_2204</td>\n",
       "      <td>1</td>\n",
       "    </tr>\n",
       "    <tr>\n",
       "      <th>2</th>\n",
       "      <td>patient_id_93</td>\n",
       "      <td>1</td>\n",
       "    </tr>\n",
       "    <tr>\n",
       "      <th>3</th>\n",
       "      <td>patient_id_798</td>\n",
       "      <td>1</td>\n",
       "    </tr>\n",
       "    <tr>\n",
       "      <th>4</th>\n",
       "      <td>patient_id_789</td>\n",
       "      <td>1</td>\n",
       "    </tr>\n",
       "  </tbody>\n",
       "</table>\n",
       "</div>"
      ],
      "text/plain": [
       "       patient_id_  SOURCE\n",
       "0  patient_id_4373       1\n",
       "1  patient_id_2204       1\n",
       "2    patient_id_93       1\n",
       "3   patient_id_798       1\n",
       "4   patient_id_789       1"
      ]
     },
     "execution_count": 157,
     "metadata": {},
     "output_type": "execute_result"
    }
   ],
   "source": [
    "sample_submission.head()"
   ]
  },
  {
   "cell_type": "code",
   "execution_count": 158,
   "id": "a562ae18",
   "metadata": {},
   "outputs": [
    {
     "data": {
      "text/html": [
       "<div>\n",
       "<style scoped>\n",
       "    .dataframe tbody tr th:only-of-type {\n",
       "        vertical-align: middle;\n",
       "    }\n",
       "\n",
       "    .dataframe tbody tr th {\n",
       "        vertical-align: top;\n",
       "    }\n",
       "\n",
       "    .dataframe thead th {\n",
       "        text-align: right;\n",
       "    }\n",
       "</style>\n",
       "<table border=\"1\" class=\"dataframe\">\n",
       "  <thead>\n",
       "    <tr style=\"text-align: right;\">\n",
       "      <th></th>\n",
       "      <th>patient_id_</th>\n",
       "      <th>SOURCE</th>\n",
       "    </tr>\n",
       "  </thead>\n",
       "  <tbody>\n",
       "    <tr>\n",
       "      <th>0</th>\n",
       "      <td>patient_id_4373</td>\n",
       "      <td>1</td>\n",
       "    </tr>\n",
       "    <tr>\n",
       "      <th>1</th>\n",
       "      <td>patient_id_2204</td>\n",
       "      <td>1</td>\n",
       "    </tr>\n",
       "    <tr>\n",
       "      <th>2</th>\n",
       "      <td>patient_id_93</td>\n",
       "      <td>1</td>\n",
       "    </tr>\n",
       "    <tr>\n",
       "      <th>3</th>\n",
       "      <td>patient_id_798</td>\n",
       "      <td>1</td>\n",
       "    </tr>\n",
       "    <tr>\n",
       "      <th>4</th>\n",
       "      <td>patient_id_789</td>\n",
       "      <td>1</td>\n",
       "    </tr>\n",
       "  </tbody>\n",
       "</table>\n",
       "</div>"
      ],
      "text/plain": [
       "       patient_id_  SOURCE\n",
       "0  patient_id_4373       1\n",
       "1  patient_id_2204       1\n",
       "2    patient_id_93       1\n",
       "3   patient_id_798       1\n",
       "4   patient_id_789       1"
      ]
     },
     "execution_count": 158,
     "metadata": {},
     "output_type": "execute_result"
    }
   ],
   "source": [
    "submission_file = sample_submission.copy()\n",
    "submission_file.head()"
   ]
  },
  {
   "cell_type": "code",
   "execution_count": 159,
   "id": "cee594c8",
   "metadata": {},
   "outputs": [],
   "source": [
    "submission_file.SOURCE = logistic_reg_model.predict(testing)"
   ]
  },
  {
   "cell_type": "code",
   "execution_count": 160,
   "id": "df445bef",
   "metadata": {},
   "outputs": [
    {
     "data": {
      "text/html": [
       "<div>\n",
       "<style scoped>\n",
       "    .dataframe tbody tr th:only-of-type {\n",
       "        vertical-align: middle;\n",
       "    }\n",
       "\n",
       "    .dataframe tbody tr th {\n",
       "        vertical-align: top;\n",
       "    }\n",
       "\n",
       "    .dataframe thead th {\n",
       "        text-align: right;\n",
       "    }\n",
       "</style>\n",
       "<table border=\"1\" class=\"dataframe\">\n",
       "  <thead>\n",
       "    <tr style=\"text-align: right;\">\n",
       "      <th></th>\n",
       "      <th>patient_id_</th>\n",
       "      <th>SOURCE</th>\n",
       "    </tr>\n",
       "  </thead>\n",
       "  <tbody>\n",
       "    <tr>\n",
       "      <th>0</th>\n",
       "      <td>patient_id_4373</td>\n",
       "      <td>1</td>\n",
       "    </tr>\n",
       "    <tr>\n",
       "      <th>1</th>\n",
       "      <td>patient_id_2204</td>\n",
       "      <td>1</td>\n",
       "    </tr>\n",
       "    <tr>\n",
       "      <th>2</th>\n",
       "      <td>patient_id_93</td>\n",
       "      <td>0</td>\n",
       "    </tr>\n",
       "    <tr>\n",
       "      <th>3</th>\n",
       "      <td>patient_id_798</td>\n",
       "      <td>0</td>\n",
       "    </tr>\n",
       "    <tr>\n",
       "      <th>4</th>\n",
       "      <td>patient_id_789</td>\n",
       "      <td>1</td>\n",
       "    </tr>\n",
       "  </tbody>\n",
       "</table>\n",
       "</div>"
      ],
      "text/plain": [
       "       patient_id_  SOURCE\n",
       "0  patient_id_4373       1\n",
       "1  patient_id_2204       1\n",
       "2    patient_id_93       0\n",
       "3   patient_id_798       0\n",
       "4   patient_id_789       1"
      ]
     },
     "execution_count": 160,
     "metadata": {},
     "output_type": "execute_result"
    }
   ],
   "source": [
    "submission_file.head()"
   ]
  },
  {
   "cell_type": "code",
   "execution_count": 161,
   "id": "e3bfe76f",
   "metadata": {},
   "outputs": [
    {
     "name": "stderr",
     "output_type": "stream",
     "text": [
      "C:\\Users\\LENOVO\\anaconda3\\lib\\site-packages\\seaborn\\_decorators.py:36: FutureWarning: Pass the following variable as a keyword arg: x. From version 0.12, the only valid positional argument will be `data`, and passing other arguments without an explicit keyword will result in an error or misinterpretation.\n",
      "  warnings.warn(\n"
     ]
    },
    {
     "data": {
      "text/plain": [
       "<AxesSubplot:xlabel='SOURCE', ylabel='count'>"
      ]
     },
     "execution_count": 161,
     "metadata": {},
     "output_type": "execute_result"
    },
    {
     "data": {
      "image/png": "[encoded data removed]",
      "text/plain": [
       "<Figure size 432x288 with 1 Axes>"
      ]
     },
     "metadata": {
      "needs_background": "light"
     },
     "output_type": "display_data"
    }
   ],
   "source": [
    "sns.countplot(submission_file.SOURCE)"
   ]
  },
  {
   "cell_type": "code",
   "execution_count": 162,
   "id": "5e13d1a0",
   "metadata": {},
   "outputs": [],
   "source": [
    "submission_file.to_csv('my_first_submission.csv', index = False)"
   ]
  }
 ],
 "metadata": {
  "kernelspec": {
   "display_name": "Python 3",
   "language": "python",
   "name": "python3"
  },
  "language_info": {
   "codemirror_mode": {
    "name": "ipython",
    "version": 3
   },
   "file_extension": ".py",
   "mimetype": "text/x-python",
   "name": "python",
   "nbconvert_exporter": "python",
   "pygments_lexer": "ipython3",
   "version": "3.8.8"
  }
 },
 "nbformat": 4,
 "nbformat_minor": 5
}
